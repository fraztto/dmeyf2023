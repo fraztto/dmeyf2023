{
 "cells": [
  {
   "cell_type": "code",
   "execution_count": 1,
   "metadata": {},
   "outputs": [],
   "source": [
    "import polars as pl\n",
    "import gzip"
   ]
  },
  {
   "cell_type": "code",
   "execution_count": 3,
   "metadata": {},
   "outputs": [
    {
     "ename": "TypeError",
     "evalue": "the truth value of an Expr is ambiguous\n\nHint: use '&' or '|' to logically combine Expr, not 'and'/'or', and use 'x.is_in([y,z])' instead of 'x in [y,z]' to check membership",
     "output_type": "error",
     "traceback": [
      "\u001b[0;31m---------------------------------------------------------------------------\u001b[0m",
      "\u001b[0;31mTypeError\u001b[0m                                 Traceback (most recent call last)",
      "\u001b[1;32m/home/marialejandramantillab/dmeyf2023/src/FeatureEngineering/sample_dataset.ipynb Cell 2\u001b[0m line \u001b[0;36m2\n\u001b[1;32m      <a href='vscode-notebook-cell:/home/marialejandramantillab/dmeyf2023/src/FeatureEngineering/sample_dataset.ipynb#W1sZmlsZQ%3D%3D?line=0'>1</a>\u001b[0m df \u001b[39m=\u001b[39m pl\u001b[39m.\u001b[39mread_csv(\u001b[39m'\u001b[39m\u001b[39m~/buckets/b1/datasets/competencia_02.csv.gz\u001b[39m\u001b[39m'\u001b[39m, infer_schema_length\u001b[39m=\u001b[39m\u001b[39m100000\u001b[39m, dtypes\u001b[39m=\u001b[39m{\u001b[39m'\u001b[39m\u001b[39mfoto_mes\u001b[39m\u001b[39m'\u001b[39m:\u001b[39mstr\u001b[39m})\n\u001b[0;32m----> <a href='vscode-notebook-cell:/home/marialejandramantillab/dmeyf2023/src/FeatureEngineering/sample_dataset.ipynb#W1sZmlsZQ%3D%3D?line=1'>2</a>\u001b[0m df \u001b[39m=\u001b[39m df\u001b[39m.\u001b[39;49msort([pl\u001b[39m.\u001b[39;49mcol(\u001b[39m\"\u001b[39;49m\u001b[39mnumero_de_cliente\u001b[39;49m\u001b[39m\"\u001b[39;49m)\u001b[39m.\u001b[39;49mhash(), pl\u001b[39m.\u001b[39;49mcol(\u001b[39m'\u001b[39;49m\u001b[39mfoto_mes\u001b[39;49m\u001b[39m'\u001b[39;49m)])\u001b[39m.\u001b[39;49mhead(pl\u001b[39m.\u001b[39;49mcount()\u001b[39m*\u001b[39;49m\u001b[39m0.1\u001b[39;49m)\n",
      "File \u001b[0;32m~/anaconda3/envs/dmef/lib/python3.11/site-packages/polars/dataframe/frame.py:4665\u001b[0m, in \u001b[0;36mDataFrame.head\u001b[0;34m(self, n)\u001b[0m\n\u001b[1;32m   4616\u001b[0m \u001b[39mdef\u001b[39;00m \u001b[39mhead\u001b[39m(\u001b[39mself\u001b[39m, n: \u001b[39mint\u001b[39m \u001b[39m=\u001b[39m \u001b[39m5\u001b[39m) \u001b[39m-\u001b[39m\u001b[39m>\u001b[39m Self:\n\u001b[1;32m   4617\u001b[0m \u001b[39m    \u001b[39m\u001b[39m\"\"\"\u001b[39;00m\n\u001b[1;32m   4618\u001b[0m \u001b[39m    Get the first `n` rows.\u001b[39;00m\n\u001b[1;32m   4619\u001b[0m \n\u001b[0;32m   (...)\u001b[0m\n\u001b[1;32m   4663\u001b[0m \n\u001b[1;32m   4664\u001b[0m \u001b[39m    \"\"\"\u001b[39;00m\n\u001b[0;32m-> 4665\u001b[0m     \u001b[39mif\u001b[39;00m n \u001b[39m<\u001b[39m \u001b[39m0\u001b[39m:\n\u001b[1;32m   4666\u001b[0m         n \u001b[39m=\u001b[39m \u001b[39mmax\u001b[39m(\u001b[39m0\u001b[39m, \u001b[39mself\u001b[39m\u001b[39m.\u001b[39mheight \u001b[39m+\u001b[39m n)\n\u001b[1;32m   4667\u001b[0m     \u001b[39mreturn\u001b[39;00m \u001b[39mself\u001b[39m\u001b[39m.\u001b[39m_from_pydf(\u001b[39mself\u001b[39m\u001b[39m.\u001b[39m_df\u001b[39m.\u001b[39mhead(n))\n",
      "File \u001b[0;32m~/anaconda3/envs/dmef/lib/python3.11/site-packages/polars/expr/expr.py:139\u001b[0m, in \u001b[0;36mExpr.__bool__\u001b[0;34m(self)\u001b[0m\n\u001b[1;32m    138\u001b[0m \u001b[39mdef\u001b[39;00m \u001b[39m__bool__\u001b[39m(\u001b[39mself\u001b[39m) \u001b[39m-\u001b[39m\u001b[39m>\u001b[39m NoReturn:\n\u001b[0;32m--> 139\u001b[0m     \u001b[39mraise\u001b[39;00m \u001b[39mTypeError\u001b[39;00m(\n\u001b[1;32m    140\u001b[0m         \u001b[39m\"\u001b[39m\u001b[39mthe truth value of an Expr is ambiguous\u001b[39m\u001b[39m\"\u001b[39m\n\u001b[1;32m    141\u001b[0m         \u001b[39m\"\u001b[39m\u001b[39m\\n\u001b[39;00m\u001b[39m\\n\u001b[39;00m\u001b[39mHint: use \u001b[39m\u001b[39m'\u001b[39m\u001b[39m&\u001b[39m\u001b[39m'\u001b[39m\u001b[39m or \u001b[39m\u001b[39m'\u001b[39m\u001b[39m|\u001b[39m\u001b[39m'\u001b[39m\u001b[39m to logically combine Expr, not \u001b[39m\u001b[39m'\u001b[39m\u001b[39mand\u001b[39m\u001b[39m'\u001b[39m\u001b[39m/\u001b[39m\u001b[39m'\u001b[39m\u001b[39mor\u001b[39m\u001b[39m'\u001b[39m\u001b[39m, and\u001b[39m\u001b[39m\"\u001b[39m\n\u001b[1;32m    142\u001b[0m         \u001b[39m\"\u001b[39m\u001b[39m use \u001b[39m\u001b[39m'\u001b[39m\u001b[39mx.is_in([y,z])\u001b[39m\u001b[39m'\u001b[39m\u001b[39m instead of \u001b[39m\u001b[39m'\u001b[39m\u001b[39mx in [y,z]\u001b[39m\u001b[39m'\u001b[39m\u001b[39m to check membership\u001b[39m\u001b[39m\"\u001b[39m\n\u001b[1;32m    143\u001b[0m     )\n",
      "\u001b[0;31mTypeError\u001b[0m: the truth value of an Expr is ambiguous\n\nHint: use '&' or '|' to logically combine Expr, not 'and'/'or', and use 'x.is_in([y,z])' instead of 'x in [y,z]' to check membership"
     ]
    }
   ],
   "source": [
    "df = pl.read_csv('~/buckets/b1/datasets/competencia_02.csv.gz', infer_schema_length=100000, dtypes={'foto_mes':str})"
   ]
  },
  {
   "cell_type": "code",
   "execution_count": 11,
   "metadata": {},
   "outputs": [],
   "source": [
    "# Save the result as gzip\n",
    "with gzip.open('~/buckets/b1/datasets/competencia_02_small.csv.gz', 'wb') as f:\n",
    "    df.write_csv(f)\n"
   ]
  },
  {
   "cell_type": "code",
   "execution_count": null,
   "metadata": {
    "vscode": {
     "languageId": "sql"
    }
   },
   "outputs": [],
   "source": []
  }
 ],
 "metadata": {
  "kernelspec": {
   "display_name": "dmef",
   "language": "python",
   "name": "python3"
  },
  "language_info": {
   "codemirror_mode": {
    "name": "ipython",
    "version": 3
   },
   "file_extension": ".py",
   "mimetype": "text/x-python",
   "name": "python",
   "nbconvert_exporter": "python",
   "pygments_lexer": "ipython3",
   "version": "3.11.5"
  },
  "orig_nbformat": 4
 },
 "nbformat": 4,
 "nbformat_minor": 2
}
