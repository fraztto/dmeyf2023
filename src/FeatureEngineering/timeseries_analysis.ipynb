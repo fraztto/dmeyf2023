{
 "cells": [
  {
   "cell_type": "code",
   "execution_count": 2,
   "metadata": {},
   "outputs": [
    {
     "name": "stdout",
     "output_type": "stream",
     "text": [
      "Requirement already satisfied: scikit-learn in /home/marialejandramantillab/anaconda3/envs/dmef/lib/python3.11/site-packages (1.3.1)\n",
      "Requirement already satisfied: numpy<2.0,>=1.17.3 in /home/marialejandramantillab/anaconda3/envs/dmef/lib/python3.11/site-packages (from scikit-learn) (1.24.0)\n",
      "Requirement already satisfied: scipy>=1.5.0 in /home/marialejandramantillab/anaconda3/envs/dmef/lib/python3.11/site-packages (from scikit-learn) (1.11.3)\n",
      "Requirement already satisfied: joblib>=1.1.1 in /home/marialejandramantillab/anaconda3/envs/dmef/lib/python3.11/site-packages (from scikit-learn) (1.3.2)\n",
      "Requirement already satisfied: threadpoolctl>=2.0.0 in /home/marialejandramantillab/anaconda3/envs/dmef/lib/python3.11/site-packages (from scikit-learn) (3.2.0)\n",
      "Requirement already satisfied: shap in /home/marialejandramantillab/anaconda3/envs/dmef/lib/python3.11/site-packages (0.43.0)\n",
      "Requirement already satisfied: numpy in /home/marialejandramantillab/anaconda3/envs/dmef/lib/python3.11/site-packages (from shap) (1.24.0)\n",
      "Requirement already satisfied: scipy in /home/marialejandramantillab/anaconda3/envs/dmef/lib/python3.11/site-packages (from shap) (1.11.3)\n",
      "Requirement already satisfied: scikit-learn in /home/marialejandramantillab/anaconda3/envs/dmef/lib/python3.11/site-packages (from shap) (1.3.1)\n",
      "Requirement already satisfied: pandas in /home/marialejandramantillab/anaconda3/envs/dmef/lib/python3.11/site-packages (from shap) (2.1.1)\n",
      "Requirement already satisfied: tqdm>=4.27.0 in /home/marialejandramantillab/anaconda3/envs/dmef/lib/python3.11/site-packages (from shap) (4.66.1)\n",
      "Requirement already satisfied: packaging>20.9 in /home/marialejandramantillab/anaconda3/envs/dmef/lib/python3.11/site-packages (from shap) (23.1)\n",
      "Requirement already satisfied: slicer==0.0.7 in /home/marialejandramantillab/anaconda3/envs/dmef/lib/python3.11/site-packages (from shap) (0.0.7)\n",
      "Requirement already satisfied: numba in /home/marialejandramantillab/anaconda3/envs/dmef/lib/python3.11/site-packages (from shap) (0.58.0)\n",
      "Requirement already satisfied: cloudpickle in /home/marialejandramantillab/anaconda3/envs/dmef/lib/python3.11/site-packages (from shap) (2.2.1)\n",
      "Requirement already satisfied: llvmlite<0.42,>=0.41.0dev0 in /home/marialejandramantillab/anaconda3/envs/dmef/lib/python3.11/site-packages (from numba->shap) (0.41.0)\n",
      "Requirement already satisfied: python-dateutil>=2.8.2 in /home/marialejandramantillab/anaconda3/envs/dmef/lib/python3.11/site-packages (from pandas->shap) (2.8.2)\n",
      "Requirement already satisfied: pytz>=2020.1 in /home/marialejandramantillab/anaconda3/envs/dmef/lib/python3.11/site-packages (from pandas->shap) (2023.3.post1)\n",
      "Requirement already satisfied: tzdata>=2022.1 in /home/marialejandramantillab/anaconda3/envs/dmef/lib/python3.11/site-packages (from pandas->shap) (2023.3)\n",
      "Requirement already satisfied: joblib>=1.1.1 in /home/marialejandramantillab/anaconda3/envs/dmef/lib/python3.11/site-packages (from scikit-learn->shap) (1.3.2)\n",
      "Requirement already satisfied: threadpoolctl>=2.0.0 in /home/marialejandramantillab/anaconda3/envs/dmef/lib/python3.11/site-packages (from scikit-learn->shap) (3.2.0)\n",
      "Requirement already satisfied: six>=1.5 in /home/marialejandramantillab/anaconda3/envs/dmef/lib/python3.11/site-packages (from python-dateutil>=2.8.2->pandas->shap) (1.16.0)\n",
      "Requirement already satisfied: umap in /home/marialejandramantillab/anaconda3/envs/dmef/lib/python3.11/site-packages (0.1.1)\n",
      "Requirement already satisfied: umap-learn in /home/marialejandramantillab/anaconda3/envs/dmef/lib/python3.11/site-packages (0.5.4)\n",
      "Requirement already satisfied: numpy>=1.17 in /home/marialejandramantillab/anaconda3/envs/dmef/lib/python3.11/site-packages (from umap-learn) (1.24.0)\n",
      "Requirement already satisfied: scipy>=1.3.1 in /home/marialejandramantillab/anaconda3/envs/dmef/lib/python3.11/site-packages (from umap-learn) (1.11.3)\n",
      "Requirement already satisfied: scikit-learn>=0.22 in /home/marialejandramantillab/anaconda3/envs/dmef/lib/python3.11/site-packages (from umap-learn) (1.3.1)\n",
      "Requirement already satisfied: numba>=0.51.2 in /home/marialejandramantillab/anaconda3/envs/dmef/lib/python3.11/site-packages (from umap-learn) (0.58.0)\n",
      "Requirement already satisfied: pynndescent>=0.5 in /home/marialejandramantillab/anaconda3/envs/dmef/lib/python3.11/site-packages (from umap-learn) (0.5.10)\n",
      "Requirement already satisfied: tqdm in /home/marialejandramantillab/anaconda3/envs/dmef/lib/python3.11/site-packages (from umap-learn) (4.66.1)\n",
      "Requirement already satisfied: tbb>=2019.0 in /home/marialejandramantillab/anaconda3/envs/dmef/lib/python3.11/site-packages (from umap-learn) (2021.10.0)\n",
      "Requirement already satisfied: llvmlite<0.42,>=0.41.0dev0 in /home/marialejandramantillab/anaconda3/envs/dmef/lib/python3.11/site-packages (from numba>=0.51.2->umap-learn) (0.41.0)\n",
      "Requirement already satisfied: joblib>=0.11 in /home/marialejandramantillab/anaconda3/envs/dmef/lib/python3.11/site-packages (from pynndescent>=0.5->umap-learn) (1.3.2)\n",
      "Requirement already satisfied: threadpoolctl>=2.0.0 in /home/marialejandramantillab/anaconda3/envs/dmef/lib/python3.11/site-packages (from scikit-learn>=0.22->umap-learn) (3.2.0)\n"
     ]
    }
   ],
   "source": [
    "!pip install scikit-learn\n",
    "!pip install shap\n",
    "!pip install umap\n",
    "!pip install umap-learn"
   ]
  },
  {
   "cell_type": "code",
   "execution_count": 1,
   "metadata": {},
   "outputs": [
    {
     "name": "stderr",
     "output_type": "stream",
     "text": [
      "/home/marialejandramantillab/anaconda3/envs/dmef/lib/python3.11/site-packages/tqdm/auto.py:21: TqdmWarning: IProgress not found. Please update jupyter and ipywidgets. See https://ipywidgets.readthedocs.io/en/stable/user_install.html\n",
      "  from .autonotebook import tqdm as notebook_tqdm\n"
     ]
    }
   ],
   "source": [
    "import polars as pl\n",
    "import gzip\n",
    "from sklearn.cluster import DBSCAN\n",
    "from sklearn.ensemble import  RandomForestClassifier\n",
    "from sklearn.impute import SimpleImputer\n",
    "import numpy as np\n",
    "from umap import UMAP"
   ]
  },
  {
   "cell_type": "code",
   "execution_count": 2,
   "metadata": {},
   "outputs": [],
   "source": [
    "df = pl.read_csv('~/buckets/b1/datasets/competencia_02_targets_b2.csv.gz', infer_schema_length=100000, dtypes={'foto_mes':str})"
   ]
  },
  {
   "cell_type": "code",
   "execution_count": 4,
   "metadata": {},
   "outputs": [
    {
     "data": {
      "text/html": [
       "<div><style>\n",
       ".dataframe > thead > tr > th,\n",
       ".dataframe > tbody > tr > td {\n",
       "  text-align: right;\n",
       "  white-space: pre-wrap;\n",
       "}\n",
       "</style>\n",
       "<small>shape: (12, 155)</small><table border=\"1\" class=\"dataframe\"><thead><tr><th>numero_de_cliente</th><th>foto_mes</th><th>active_quarter</th><th>cliente_vip</th><th>internet</th><th>cliente_edad</th><th>cliente_antiguedad</th><th>mrentabilidad</th><th>mrentabilidad_annual</th><th>mcomisiones</th><th>mactivos_margen</th><th>mpasivos_margen</th><th>cproductos</th><th>tcuentas</th><th>ccuenta_corriente</th><th>mcuenta_corriente_adicional</th><th>mcuenta_corriente</th><th>ccaja_ahorro</th><th>mcaja_ahorro</th><th>mcaja_ahorro_adicional</th><th>mcaja_ahorro_dolares</th><th>cdescubierto_preacordado</th><th>mcuentas_saldo</th><th>ctarjeta_debito</th><th>ctarjeta_debito_transacciones</th><th>mautoservicio</th><th>ctarjeta_visa</th><th>ctarjeta_visa_transacciones</th><th>mtarjeta_visa_consumo</th><th>ctarjeta_master</th><th>ctarjeta_master_transacciones</th><th>mtarjeta_master_consumo</th><th>cprestamos_personales</th><th>mprestamos_personales</th><th>cprestamos_prendarios</th><th>mprestamos_prendarios</th><th>cprestamos_hipotecarios</th><th>&hellip;</th><th>Master_mconsumospesos</th><th>Master_mconsumosdolares</th><th>Master_mlimitecompra</th><th>Master_madelantopesos</th><th>Master_madelantodolares</th><th>Master_fultimo_cierre</th><th>Master_mpagado</th><th>Master_mpagospesos</th><th>Master_mpagosdolares</th><th>Master_fechaalta</th><th>Master_mconsumototal</th><th>Master_cconsumos</th><th>Master_cadelantosefectivo</th><th>Master_mpagominimo</th><th>Visa_delinquency</th><th>Visa_status</th><th>Visa_mfinanciacion_limite</th><th>Visa_Fvencimiento</th><th>Visa_Finiciomora</th><th>Visa_msaldototal</th><th>Visa_msaldopesos</th><th>Visa_msaldodolares</th><th>Visa_mconsumospesos</th><th>Visa_mconsumosdolares</th><th>Visa_mlimitecompra</th><th>Visa_madelantopesos</th><th>Visa_madelantodolares</th><th>Visa_fultimo_cierre</th><th>Visa_mpagado</th><th>Visa_mpagospesos</th><th>Visa_mpagosdolares</th><th>Visa_fechaalta</th><th>Visa_mconsumototal</th><th>Visa_cconsumos</th><th>Visa_cadelantosefectivo</th><th>Visa_mpagominimo</th><th>clase_ternaria</th></tr><tr><td>i64</td><td>str</td><td>i64</td><td>i64</td><td>i64</td><td>i64</td><td>i64</td><td>f64</td><td>f64</td><td>f64</td><td>f64</td><td>f64</td><td>i64</td><td>i64</td><td>i64</td><td>f64</td><td>f64</td><td>i64</td><td>f64</td><td>f64</td><td>f64</td><td>i64</td><td>f64</td><td>i64</td><td>i64</td><td>f64</td><td>i64</td><td>i64</td><td>f64</td><td>i64</td><td>i64</td><td>f64</td><td>i64</td><td>f64</td><td>i64</td><td>f64</td><td>i64</td><td>&hellip;</td><td>f64</td><td>f64</td><td>f64</td><td>f64</td><td>f64</td><td>i64</td><td>f64</td><td>f64</td><td>f64</td><td>i64</td><td>f64</td><td>i64</td><td>i64</td><td>f64</td><td>i64</td><td>i64</td><td>f64</td><td>i64</td><td>i64</td><td>f64</td><td>f64</td><td>f64</td><td>f64</td><td>f64</td><td>f64</td><td>f64</td><td>f64</td><td>i64</td><td>f64</td><td>f64</td><td>f64</td><td>i64</td><td>f64</td><td>i64</td><td>i64</td><td>f64</td><td>str</td></tr></thead><tbody><tr><td>29199686</td><td>&quot;201901&quot;</td><td>1</td><td>0</td><td>1</td><td>51</td><td>296</td><td>815.72</td><td>16932.85</td><td>1074.42</td><td>-223.35</td><td>2.81</td><td>7</td><td>1</td><td>1</td><td>0.0</td><td>-66.52</td><td>2</td><td>210.54</td><td>0.0</td><td>0.0</td><td>1</td><td>-1031.14</td><td>1</td><td>0</td><td>0.0</td><td>1</td><td>5</td><td>2898.67</td><td>1</td><td>2</td><td>1826.17</td><td>0</td><td>0.0</td><td>0</td><td>0.0</td><td>0</td><td>&hellip;</td><td>-492.3</td><td>0.0</td><td>230318.55</td><td>0.0</td><td>0.0</td><td>8</td><td>0.0</td><td>-766.02</td><td>0.0</td><td>6633</td><td>-492.3</td><td>1</td><td>0</td><td>105.57</td><td>0</td><td>0</td><td>207286.69</td><td>-1033</td><td>null</td><td>2622.48</td><td>3032.29</td><td>43.87</td><td>2266.49</td><td>15.75</td><td>230318.55</td><td>0.0</td><td>0.0</td><td>8</td><td>0.0</td><td>-2218.82</td><td>1.18</td><td>7389</td><td>2266.49</td><td>8</td><td>0</td><td>281.52</td><td>&quot;CONTINUA&quot;</td></tr><tr><td>29199686</td><td>&quot;201902&quot;</td><td>1</td><td>0</td><td>1</td><td>51</td><td>297</td><td>801.02</td><td>16277.01</td><td>987.64</td><td>-209.39</td><td>50.3</td><td>7</td><td>1</td><td>1</td><td>0.0</td><td>-528.34</td><td>2</td><td>967.88</td><td>0.0</td><td>0.0</td><td>1</td><td>864.32</td><td>1</td><td>0</td><td>0.0</td><td>1</td><td>3</td><td>2742.01</td><td>1</td><td>3</td><td>8401.4</td><td>0</td><td>0.0</td><td>0</td><td>0.0</td><td>0</td><td>&hellip;</td><td>6575.25</td><td>0.0</td><td>243435.62</td><td>0.0</td><td>0.0</td><td>8</td><td>0.0</td><td>-1354.81</td><td>0.0</td><td>6661</td><td>6575.25</td><td>1</td><td>0</td><td>469.2</td><td>0</td><td>0</td><td>219092.06</td><td>-1005</td><td>null</td><td>2400.5</td><td>2769.41</td><td>46.36</td><td>2619.75</td><td>1.94</td><td>243435.62</td><td>0.0</td><td>0.0</td><td>8</td><td>0.0</td><td>-3079.12</td><td>0.0</td><td>7417</td><td>2619.75</td><td>4</td><td>0</td><td>175.95</td><td>&quot;CONTINUA&quot;</td></tr><tr><td>29199686</td><td>&quot;201903&quot;</td><td>1</td><td>0</td><td>1</td><td>51</td><td>298</td><td>1217.08</td><td>15391.29</td><td>1331.17</td><td>-237.92</td><td>140.65</td><td>7</td><td>1</td><td>1</td><td>0.0</td><td>-104.97</td><td>2</td><td>704.1</td><td>0.0</td><td>0.0</td><td>1</td><td>-813.6</td><td>1</td><td>0</td><td>0.0</td><td>1</td><td>5</td><td>7704.17</td><td>1</td><td>2</td><td>1826.14</td><td>0</td><td>0.0</td><td>0</td><td>0.0</td><td>0</td><td>&hellip;</td><td>0.0</td><td>0.0</td><td>252796.16</td><td>0.0</td><td>0.0</td><td>11</td><td>1847.47</td><td>-8498.38</td><td>0.0</td><td>6692</td><td>0.0</td><td>0</td><td>0</td><td>129.03</td><td>0</td><td>0</td><td>227516.54</td><td>-974</td><td>null</td><td>6702.39</td><td>7813.75</td><td>48.15</td><td>7313.39</td><td>8.29</td><td>252796.16</td><td>0.0</td><td>0.0</td><td>11</td><td>7870.83</td><td>-2838.83</td><td>1.0</td><td>7448</td><td>7313.39</td><td>7</td><td>0</td><td>457.47</td><td>&quot;CONTINUA&quot;</td></tr><tr><td>29199686</td><td>&quot;201904&quot;</td><td>1</td><td>0</td><td>0</td><td>51</td><td>299</td><td>1428.23</td><td>14937.19</td><td>1286.83</td><td>-49.98</td><td>170.52</td><td>7</td><td>1</td><td>1</td><td>0.0</td><td>-967.65</td><td>2</td><td>0.0</td><td>0.0</td><td>0.0</td><td>1</td><td>-2469.75</td><td>1</td><td>0</td><td>0.0</td><td>1</td><td>5</td><td>2906.77</td><td>1</td><td>1</td><td>732.13</td><td>0</td><td>0.0</td><td>0</td><td>0.0</td><td>0</td><td>&hellip;</td><td>0.0</td><td>0.0</td><td>788256.0</td><td>0.0</td><td>0.0</td><td>6</td><td>0.0</td><td>-1847.47</td><td>0.0</td><td>6722</td><td>0.0</td><td>0</td><td>0</td><td>70.38</td><td>0</td><td>0</td><td>709430.4</td><td>-944</td><td>null</td><td>2628.23</td><td>3030.24</td><td>52.66</td><td>2216.81</td><td>14.22</td><td>788256.0</td><td>0.0</td><td>0.0</td><td>6</td><td>0.0</td><td>-7870.83</td><td>1.0</td><td>7478</td><td>2216.81</td><td>8</td><td>0</td><td>281.52</td><td>&quot;CONTINUA&quot;</td></tr><tr><td>29199686</td><td>&quot;201905&quot;</td><td>1</td><td>0</td><td>1</td><td>51</td><td>300</td><td>0.0</td><td>0.0</td><td>0.0</td><td>0.0</td><td>0.0</td><td>7</td><td>1</td><td>1</td><td>0.0</td><td>-2674.15</td><td>2</td><td>0.0</td><td>0.0</td><td>0.0</td><td>1</td><td>-4191.22</td><td>1</td><td>0</td><td>0.0</td><td>1</td><td>4</td><td>3059.67</td><td>1</td><td>1</td><td>2460.35</td><td>0</td><td>0.0</td><td>0</td><td>0.0</td><td>0</td><td>&hellip;</td><td>2460.35</td><td>0.0</td><td>788256.0</td><td>0.0</td><td>0.0</td><td>9</td><td>0.0</td><td>-741.33</td><td>0.0</td><td>6753</td><td>2460.35</td><td>1</td><td>0</td><td>117.3</td><td>0</td><td>0</td><td>709430.4</td><td>-913</td><td>null</td><td>2720.65</td><td>3138.43</td><td>52.89</td><td>2680.7</td><td>7.24</td><td>788256.0</td><td>0.0</td><td>0.0</td><td>9</td><td>0.0</td><td>-3088.5</td><td>0.0</td><td>7509</td><td>2680.7</td><td>6</td><td>0</td><td>246.33</td><td>&quot;CONTINUA&quot;</td></tr><tr><td>29199686</td><td>&quot;201906&quot;</td><td>1</td><td>0</td><td>1</td><td>52</td><td>301</td><td>1208.97</td><td>14500.06</td><td>1282.18</td><td>-158.5</td><td>96.09</td><td>7</td><td>1</td><td>1</td><td>0.0</td><td>-4611.42</td><td>2</td><td>0.0</td><td>0.0</td><td>0.0</td><td>1</td><td>-6049.2</td><td>1</td><td>0</td><td>0.0</td><td>1</td><td>8</td><td>5620.94</td><td>1</td><td>0</td><td>0.0</td><td>0</td><td>0.0</td><td>0</td><td>0.0</td><td>0</td><td>&hellip;</td><td>0.0</td><td>0.0</td><td>788256.0</td><td>0.0</td><td>0.0</td><td>12</td><td>99.7</td><td>-2492.62</td><td>0.0</td><td>6783</td><td>0.0</td><td>0</td><td>0</td><td>93.84</td><td>0</td><td>0</td><td>709430.4</td><td>-883</td><td>null</td><td>4895.89</td><td>5692.08</td><td>50.79</td><td>5508.67</td><td>1.45</td><td>788256.0</td><td>0.0</td><td>0.0</td><td>12</td><td>5759.43</td><td>-3202.29</td><td>0.0</td><td>7539</td><td>5508.67</td><td>9</td><td>0</td><td>340.17</td><td>&quot;CONTINUA&quot;</td></tr><tr><td>29199686</td><td>&quot;201907&quot;</td><td>1</td><td>0</td><td>1</td><td>52</td><td>302</td><td>1053.22</td><td>13554.05</td><td>1384.91</td><td>-287.73</td><td>4.96</td><td>7</td><td>1</td><td>1</td><td>0.0</td><td>-6429.94</td><td>2</td><td>0.0</td><td>0.0</td><td>0.0</td><td>1</td><td>-8047.71</td><td>1</td><td>0</td><td>0.0</td><td>1</td><td>6</td><td>4611.56</td><td>1</td><td>2</td><td>2284.81</td><td>0</td><td>0.0</td><td>0</td><td>0.0</td><td>0</td><td>&hellip;</td><td>-974.58</td><td>0.0</td><td>788256.0</td><td>0.0</td><td>0.0</td><td>7</td><td>0.0</td><td>-99.7</td><td>0.0</td><td>6814</td><td>-974.58</td><td>2</td><td>0</td><td>58.65</td><td>0</td><td>0</td><td>709430.4</td><td>-852</td><td>null</td><td>4098.18</td><td>4756.29</td><td>50.87</td><td>3899.27</td><td>15.24</td><td>788256.0</td><td>0.0</td><td>0.0</td><td>7</td><td>0.0</td><td>-5758.92</td><td>1.0</td><td>7570</td><td>3899.27</td><td>9</td><td>0</td><td>375.36</td><td>&quot;CONTINUA&quot;</td></tr><tr><td>29199686</td><td>&quot;201908&quot;</td><td>1</td><td>0</td><td>1</td><td>52</td><td>303</td><td>1117.13</td><td>12906.22</td><td>1479.7</td><td>-312.82</td><td>3.72</td><td>7</td><td>1</td><td>1</td><td>0.0</td><td>-8689.54</td><td>2</td><td>0.0</td><td>0.0</td><td>0.0</td><td>1</td><td>-10498.47</td><td>1</td><td>0</td><td>0.0</td><td>1</td><td>4</td><td>3552.4</td><td>1</td><td>1</td><td>2247.85</td><td>0</td><td>0.0</td><td>0</td><td>0.0</td><td>0</td><td>&hellip;</td><td>0.0</td><td>0.0</td><td>788256.0</td><td>0.0</td><td>0.0</td><td>10</td><td>0.0</td><td>-1290.3</td><td>0.0</td><td>6845</td><td>0.0</td><td>0</td><td>0</td><td>105.57</td><td>0</td><td>0</td><td>709430.4</td><td>-821</td><td>null</td><td>3151.57</td><td>3631.52</td><td>65.26</td><td>3075.4</td><td>7.41</td><td>788256.0</td><td>0.0</td><td>0.0</td><td>10</td><td>0.0</td><td>-4819.62</td><td>1.14</td><td>7601</td><td>3075.4</td><td>6</td><td>0</td><td>281.52</td><td>&quot;CONTINUA&quot;</td></tr><tr><td>29199686</td><td>&quot;201909&quot;</td><td>1</td><td>0</td><td>1</td><td>52</td><td>304</td><td>-2233.28</td><td>9530.15</td><td>-2026.45</td><td>-289.88</td><td>113.55</td><td>7</td><td>1</td><td>1</td><td>0.0</td><td>-7008.44</td><td>2</td><td>0.0</td><td>0.0</td><td>0.0</td><td>1</td><td>-8359.99</td><td>1</td><td>0</td><td>0.0</td><td>1</td><td>3</td><td>3701.96</td><td>1</td><td>4</td><td>2613.71</td><td>0</td><td>0.0</td><td>0</td><td>0.0</td><td>0</td><td>&hellip;</td><td>365.85</td><td>0.0</td><td>788256.0</td><td>0.0</td><td>0.0</td><td>12</td><td>0.0</td><td>-2287.35</td><td>0.0</td><td>6875</td><td>365.85</td><td>3</td><td>0</td><td>129.03</td><td>1</td><td>0</td><td>709430.4</td><td>-791</td><td>0</td><td>3211.34</td><td>3700.54</td><td>66.35</td><td>3581.36</td><td>0.95</td><td>788256.0</td><td>0.0</td><td>0.0</td><td>12</td><td>0.0</td><td>-3753.6</td><td>0.0</td><td>7631</td><td>3581.36</td><td>4</td><td>0</td><td>211.14</td><td>&quot;CONTINUA&quot;</td></tr><tr><td>29199686</td><td>&quot;201910&quot;</td><td>1</td><td>0</td><td>0</td><td>52</td><td>305</td><td>0.0</td><td>0.0</td><td>0.0</td><td>0.0</td><td>0.0</td><td>7</td><td>1</td><td>1</td><td>0.0</td><td>-8948.32</td><td>2</td><td>0.0</td><td>0.0</td><td>0.0</td><td>1</td><td>-10840.92</td><td>1</td><td>0</td><td>0.0</td><td>1</td><td>5</td><td>4335.56</td><td>1</td><td>3</td><td>380.32</td><td>0</td><td>0.0</td><td>0</td><td>0.0</td><td>0</td><td>&hellip;</td><td>380.32</td><td>0.0</td><td>788256.0</td><td>0.0</td><td>0.0</td><td>8</td><td>0.0</td><td>-2650.98</td><td>0.0</td><td>6906</td><td>380.32</td><td>3</td><td>0</td><td>11.73</td><td>0</td><td>0</td><td>709430.4</td><td>-760</td><td>null</td><td>3893.58</td><td>4497.43</td><td>69.73</td><td>3552.12</td><td>12.01</td><td>788256.0</td><td>0.0</td><td>0.0</td><td>8</td><td>0.0</td><td>-3777.06</td><td>0.0</td><td>7662</td><td>3552.12</td><td>8</td><td>0</td><td>398.82</td><td>&quot;CONTINUA&quot;</td></tr><tr><td>29199686</td><td>&quot;201911&quot;</td><td>1</td><td>0</td><td>1</td><td>52</td><td>306</td><td>1718.62</td><td>10635.09</td><td>1497.89</td><td>100.54</td><td>87.63</td><td>7</td><td>1</td><td>1</td><td>0.0</td><td>-11722.37</td><td>2</td><td>0.0</td><td>0.0</td><td>0.0</td><td>1</td><td>-13632.1</td><td>1</td><td>0</td><td>0.0</td><td>1</td><td>3</td><td>4203.16</td><td>1</td><td>1</td><td>263.04</td><td>0</td><td>0.0</td><td>0</td><td>0.0</td><td>0</td><td>&hellip;</td><td>263.04</td><td>0.0</td><td>788256.0</td><td>0.0</td><td>0.0</td><td>10</td><td>0.0</td><td>-263.04</td><td>0.0</td><td>6936</td><td>263.04</td><td>1</td><td>0</td><td>23.46</td><td>0</td><td>0</td><td>709430.4</td><td>-730</td><td>null</td><td>4207.98</td><td>4865.81</td><td>70.14</td><td>4085.25</td><td>0.8</td><td>788256.0</td><td>0.0</td><td>0.0</td><td>10</td><td>0.0</td><td>-4017.52</td><td>0.0</td><td>7692</td><td>4085.25</td><td>4</td><td>0</td><td>363.63</td><td>&quot;BAJA+2&quot;</td></tr><tr><td>29199686</td><td>&quot;201912&quot;</td><td>1</td><td>0</td><td>1</td><td>52</td><td>307</td><td>212.05</td><td>9986.51</td><td>117.55</td><td>9.64</td><td>70.92</td><td>7</td><td>1</td><td>1</td><td>0.0</td><td>-14686.34</td><td>2</td><td>0.0</td><td>0.0</td><td>0.0</td><td>0</td><td>-15812.57</td><td>1</td><td>0</td><td>0.0</td><td>1</td><td>2</td><td>4333.06</td><td>1</td><td>3</td><td>527.87</td><td>0</td><td>0.0</td><td>0</td><td>0.0</td><td>0</td><td>&hellip;</td><td>527.87</td><td>0.0</td><td>788256.0</td><td>0.0</td><td>0.0</td><td>13</td><td>0.0</td><td>-398.82</td><td>0.0</td><td>6967</td><td>527.87</td><td>3</td><td>0</td><td>35.19</td><td>0</td><td>0</td><td>709430.4</td><td>-699</td><td>null</td><td>4020.66</td><td>4716.23</td><td>0.0</td><td>4013.11</td><td>5.34</td><td>788256.0</td><td>0.0</td><td>0.0</td><td>13</td><td>0.0</td><td>-4950.06</td><td>0.0</td><td>7723</td><td>4013.11</td><td>3</td><td>0</td><td>551.31</td><td>&quot;BAJA+1&quot;</td></tr></tbody></table></div>"
      ],
      "text/plain": [
       "shape: (12, 155)\n",
       "┌───────────┬──────────┬───────────┬───────────┬───┬───────────┬───────────┬───────────┬───────────┐\n",
       "│ numero_de ┆ foto_mes ┆ active_qu ┆ cliente_v ┆ … ┆ Visa_ccon ┆ Visa_cade ┆ Visa_mpag ┆ clase_ter │\n",
       "│ _cliente  ┆ ---      ┆ arter     ┆ ip        ┆   ┆ sumos     ┆ lantosefe ┆ ominimo   ┆ naria     │\n",
       "│ ---       ┆ str      ┆ ---       ┆ ---       ┆   ┆ ---       ┆ ctivo     ┆ ---       ┆ ---       │\n",
       "│ i64       ┆          ┆ i64       ┆ i64       ┆   ┆ i64       ┆ ---       ┆ f64       ┆ str       │\n",
       "│           ┆          ┆           ┆           ┆   ┆           ┆ i64       ┆           ┆           │\n",
       "╞═══════════╪══════════╪═══════════╪═══════════╪═══╪═══════════╪═══════════╪═══════════╪═══════════╡\n",
       "│ 29199686  ┆ 201901   ┆ 1         ┆ 0         ┆ … ┆ 8         ┆ 0         ┆ 281.52    ┆ CONTINUA  │\n",
       "│ 29199686  ┆ 201902   ┆ 1         ┆ 0         ┆ … ┆ 4         ┆ 0         ┆ 175.95    ┆ CONTINUA  │\n",
       "│ 29199686  ┆ 201903   ┆ 1         ┆ 0         ┆ … ┆ 7         ┆ 0         ┆ 457.47    ┆ CONTINUA  │\n",
       "│ 29199686  ┆ 201904   ┆ 1         ┆ 0         ┆ … ┆ 8         ┆ 0         ┆ 281.52    ┆ CONTINUA  │\n",
       "│ …         ┆ …        ┆ …         ┆ …         ┆ … ┆ …         ┆ …         ┆ …         ┆ …         │\n",
       "│ 29199686  ┆ 201909   ┆ 1         ┆ 0         ┆ … ┆ 4         ┆ 0         ┆ 211.14    ┆ CONTINUA  │\n",
       "│ 29199686  ┆ 201910   ┆ 1         ┆ 0         ┆ … ┆ 8         ┆ 0         ┆ 398.82    ┆ CONTINUA  │\n",
       "│ 29199686  ┆ 201911   ┆ 1         ┆ 0         ┆ … ┆ 4         ┆ 0         ┆ 363.63    ┆ BAJA+2    │\n",
       "│ 29199686  ┆ 201912   ┆ 1         ┆ 0         ┆ … ┆ 3         ┆ 0         ┆ 551.31    ┆ BAJA+1    │\n",
       "└───────────┴──────────┴───────────┴───────────┴───┴───────────┴───────────┴───────────┴───────────┘"
      ]
     },
     "execution_count": 4,
     "metadata": {},
     "output_type": "execute_result"
    }
   ],
   "source": [
    "df.filter(pl.col(\"numero_de_cliente\") == 29199686)"
   ]
  },
  {
   "cell_type": "code",
   "execution_count": 5,
   "metadata": {
    "vscode": {
     "languageId": "sql"
    }
   },
   "outputs": [
    {
     "data": {
      "text/plain": [
       "(18967, 155)"
      ]
     },
     "execution_count": 5,
     "metadata": {},
     "output_type": "execute_result"
    }
   ],
   "source": [
    "df.unique(subset=[\"numero_de_cliente\"]).shape"
   ]
  },
  {
   "cell_type": "code",
   "execution_count": 6,
   "metadata": {
    "vscode": {
     "languageId": "sql"
    }
   },
   "outputs": [],
   "source": [
    "max_lag = 12\n",
    "columns = df.columns \n",
    "columns.remove('foto_mes')\n",
    "columns.remove('numero_de_cliente')\n",
    "columns.remove('clase_ternaria')\n",
    "\n",
    "for column in columns:\n",
    "    for lag in range(1, max_lag+1):    \n",
    "        column_lag = column + '_lag_' + str(lag)\n",
    "        df = df.with_columns([pl.col(column).shift(lag).over('numero_de_cliente').alias(column_lag)])"
   ]
  },
  {
   "cell_type": "code",
   "execution_count": 21,
   "metadata": {},
   "outputs": [],
   "source": [
    "df = df.filter((pl.col('clase_ternaria').ne('CONTINUA') | (pl.col('clase_ternaria').eq('CONTINUA') & pl.lit(np.random.rand(df.height)).lt(0.1))))"
   ]
  },
  {
   "cell_type": "code",
   "execution_count": 22,
   "metadata": {
    "vscode": {
     "languageId": "sql"
    }
   },
   "outputs": [
    {
     "data": {
      "text/plain": [
       "['numero_de_cliente',\n",
       " 'foto_mes',\n",
       " 'active_quarter',\n",
       " 'cliente_vip',\n",
       " 'internet',\n",
       " 'cliente_edad',\n",
       " 'cliente_antiguedad',\n",
       " 'mrentabilidad',\n",
       " 'mrentabilidad_annual',\n",
       " 'mcomisiones',\n",
       " 'mactivos_margen',\n",
       " 'mpasivos_margen',\n",
       " 'cproductos',\n",
       " 'tcuentas',\n",
       " 'ccuenta_corriente',\n",
       " 'mcuenta_corriente_adicional',\n",
       " 'mcuenta_corriente',\n",
       " 'ccaja_ahorro',\n",
       " 'mcaja_ahorro',\n",
       " 'mcaja_ahorro_adicional',\n",
       " 'mcaja_ahorro_dolares',\n",
       " 'cdescubierto_preacordado',\n",
       " 'mcuentas_saldo',\n",
       " 'ctarjeta_debito',\n",
       " 'ctarjeta_debito_transacciones',\n",
       " 'mautoservicio',\n",
       " 'ctarjeta_visa',\n",
       " 'ctarjeta_visa_transacciones',\n",
       " 'mtarjeta_visa_consumo',\n",
       " 'ctarjeta_master',\n",
       " 'ctarjeta_master_transacciones',\n",
       " 'mtarjeta_master_consumo',\n",
       " 'cprestamos_personales',\n",
       " 'mprestamos_personales',\n",
       " 'cprestamos_prendarios',\n",
       " 'mprestamos_prendarios',\n",
       " 'cprestamos_hipotecarios',\n",
       " 'mprestamos_hipotecarios',\n",
       " 'cplazo_fijo',\n",
       " 'mplazo_fijo_dolares',\n",
       " 'mplazo_fijo_pesos',\n",
       " 'cinversion1',\n",
       " 'minversion1_pesos',\n",
       " 'minversion1_dolares',\n",
       " 'cinversion2',\n",
       " 'minversion2',\n",
       " 'cseguro_vida',\n",
       " 'cseguro_auto',\n",
       " 'cseguro_vivienda',\n",
       " 'cseguro_accidentes_personales',\n",
       " 'ccaja_seguridad',\n",
       " 'cpayroll_trx',\n",
       " 'mpayroll',\n",
       " 'mpayroll2',\n",
       " 'cpayroll2_trx',\n",
       " 'ccuenta_debitos_automaticos',\n",
       " 'mcuenta_debitos_automaticos',\n",
       " 'ctarjeta_visa_debitos_automaticos',\n",
       " 'mttarjeta_visa_debitos_automaticos',\n",
       " 'ctarjeta_master_debitos_automaticos',\n",
       " 'mttarjeta_master_debitos_automaticos',\n",
       " 'cpagodeservicios',\n",
       " 'mpagodeservicios',\n",
       " 'cpagomiscuentas',\n",
       " 'mpagomiscuentas',\n",
       " 'ccajeros_propios_descuentos',\n",
       " 'mcajeros_propios_descuentos',\n",
       " 'ctarjeta_visa_descuentos',\n",
       " 'mtarjeta_visa_descuentos',\n",
       " 'ctarjeta_master_descuentos',\n",
       " 'mtarjeta_master_descuentos',\n",
       " 'ccomisiones_mantenimiento',\n",
       " 'mcomisiones_mantenimiento',\n",
       " 'ccomisiones_otras',\n",
       " 'mcomisiones_otras',\n",
       " 'cforex',\n",
       " 'cforex_buy',\n",
       " 'mforex_buy',\n",
       " 'cforex_sell',\n",
       " 'mforex_sell',\n",
       " 'ctransferencias_recibidas',\n",
       " 'mtransferencias_recibidas',\n",
       " 'ctransferencias_emitidas',\n",
       " 'mtransferencias_emitidas',\n",
       " 'cextraccion_autoservicio',\n",
       " 'mextraccion_autoservicio',\n",
       " 'ccheques_depositados',\n",
       " 'mcheques_depositados',\n",
       " 'ccheques_emitidos',\n",
       " 'mcheques_emitidos',\n",
       " 'ccheques_depositados_rechazados',\n",
       " 'mcheques_depositados_rechazados',\n",
       " 'ccheques_emitidos_rechazados',\n",
       " 'mcheques_emitidos_rechazados',\n",
       " 'tcallcenter',\n",
       " 'ccallcenter_transacciones',\n",
       " 'thomebanking',\n",
       " 'chomebanking_transacciones',\n",
       " 'ccajas_transacciones',\n",
       " 'ccajas_consultas',\n",
       " 'ccajas_depositos',\n",
       " 'ccajas_extracciones',\n",
       " 'ccajas_otras',\n",
       " 'catm_trx',\n",
       " 'matm',\n",
       " 'catm_trx_other',\n",
       " 'matm_other',\n",
       " 'ctrx_quarter',\n",
       " 'tmobile_app',\n",
       " 'cmobile_app_trx',\n",
       " 'Master_delinquency',\n",
       " 'Master_status',\n",
       " 'Master_mfinanciacion_limite',\n",
       " 'Master_Fvencimiento',\n",
       " 'Master_Finiciomora',\n",
       " 'Master_msaldototal',\n",
       " 'Master_msaldopesos',\n",
       " 'Master_msaldodolares',\n",
       " 'Master_mconsumospesos',\n",
       " 'Master_mconsumosdolares',\n",
       " 'Master_mlimitecompra',\n",
       " 'Master_madelantopesos',\n",
       " 'Master_madelantodolares',\n",
       " 'Master_fultimo_cierre',\n",
       " 'Master_mpagado',\n",
       " 'Master_mpagospesos',\n",
       " 'Master_mpagosdolares',\n",
       " 'Master_fechaalta',\n",
       " 'Master_mconsumototal',\n",
       " 'Master_cconsumos',\n",
       " 'Master_cadelantosefectivo',\n",
       " 'Master_mpagominimo',\n",
       " 'Visa_delinquency',\n",
       " 'Visa_status',\n",
       " 'Visa_mfinanciacion_limite',\n",
       " 'Visa_Fvencimiento',\n",
       " 'Visa_Finiciomora',\n",
       " 'Visa_msaldototal',\n",
       " 'Visa_msaldopesos',\n",
       " 'Visa_msaldodolares',\n",
       " 'Visa_mconsumospesos',\n",
       " 'Visa_mconsumosdolares',\n",
       " 'Visa_mlimitecompra',\n",
       " 'Visa_madelantopesos',\n",
       " 'Visa_madelantodolares',\n",
       " 'Visa_fultimo_cierre',\n",
       " 'Visa_mpagado',\n",
       " 'Visa_mpagospesos',\n",
       " 'Visa_mpagosdolares',\n",
       " 'Visa_fechaalta',\n",
       " 'Visa_mconsumototal',\n",
       " 'Visa_cconsumos',\n",
       " 'Visa_cadelantosefectivo',\n",
       " 'Visa_mpagominimo',\n",
       " 'clase_ternaria']"
      ]
     },
     "execution_count": 22,
     "metadata": {},
     "output_type": "execute_result"
    }
   ],
   "source": [
    "list([c for c in df.columns if not 'lag' in c])"
   ]
  },
  {
   "cell_type": "code",
   "execution_count": 23,
   "metadata": {
    "vscode": {
     "languageId": "sql"
    }
   },
   "outputs": [
    {
     "data": {
      "text/plain": [
       "(87628, 1979)"
      ]
     },
     "execution_count": 23,
     "metadata": {},
     "output_type": "execute_result"
    }
   ],
   "source": [
    "df.shape"
   ]
  },
  {
   "cell_type": "code",
   "execution_count": 10,
   "metadata": {
    "vscode": {
     "languageId": "sql"
    }
   },
   "outputs": [],
   "source": [
    "df_solo_baja = df.filter(pl.col('clase_ternaria') == 'BAJA+2')"
   ]
  },
  {
   "cell_type": "code",
   "execution_count": 11,
   "metadata": {
    "vscode": {
     "languageId": "sql"
    }
   },
   "outputs": [
    {
     "data": {
      "text/plain": [
       "(18987, 1979)"
      ]
     },
     "execution_count": 11,
     "metadata": {},
     "output_type": "execute_result"
    }
   ],
   "source": [
    "df_solo_baja.shape"
   ]
  },
  {
   "cell_type": "code",
   "execution_count": 12,
   "metadata": {},
   "outputs": [],
   "source": [
    "def distanceMatrix(model, X):\n",
    "\n",
    "    terminals = model.apply(X)\n",
    "    nTrees = terminals.shape[1]\n",
    "\n",
    "    a = terminals[:,0]\n",
    "    proxMat = 1*np.equal.outer(a, a)\n",
    "\n",
    "    for i in range(1, nTrees):\n",
    "        a = terminals[:,i]\n",
    "        proxMat += 1*np.equal.outer(a, a)\n",
    "\n",
    "    proxMat = proxMat / nTrees\n",
    "\n",
    "    return proxMat.max() - proxMat\n",
    "\n",
    "\n",
    "imp_mean = SimpleImputer(missing_values=np.nan, strategy='median')\n",
    "\n",
    "XRF = df.drop(['clase_ternaria'])\n",
    "YRF = df['clase_ternaria']\n",
    "\n",
    "XRF_imp = imp_mean.fit_transform(XRF)\n",
    "\n",
    "model = RandomForestClassifier(n_estimators=100, max_features=20, min_samples_leaf=400, )\n",
    "model.fit(XRF_imp, YRF)\n",
    "d = distanceMatrix(model, XRF_imp)"
   ]
  },
  {
   "cell_type": "code",
   "execution_count": 19,
   "metadata": {},
   "outputs": [
    {
     "ename": "AttributeError",
     "evalue": "'Series' object has no attribute 'index'",
     "output_type": "error",
     "traceback": [
      "\u001b[0;31m---------------------------------------------------------------------------\u001b[0m",
      "\u001b[0;31mAttributeError\u001b[0m                            Traceback (most recent call last)",
      "\u001b[1;32m/home/marialejandramantillab/dmeyf2023/src/FeatureEngineering/timeseries_analysis.ipynb Cell 12\u001b[0m line \u001b[0;36m5\n\u001b[1;32m      <a href='vscode-notebook-cell:/home/marialejandramantillab/dmeyf2023/src/FeatureEngineering/timeseries_analysis.ipynb#X15sZmlsZQ%3D%3D?line=0'>1</a>\u001b[0m embedding_rf \u001b[39m=\u001b[39m UMAP(\n\u001b[1;32m      <a href='vscode-notebook-cell:/home/marialejandramantillab/dmeyf2023/src/FeatureEngineering/timeseries_analysis.ipynb#X15sZmlsZQ%3D%3D?line=1'>2</a>\u001b[0m   n_components\u001b[39m=\u001b[39m\u001b[39m2\u001b[39m,\n\u001b[1;32m      <a href='vscode-notebook-cell:/home/marialejandramantillab/dmeyf2023/src/FeatureEngineering/timeseries_analysis.ipynb#X15sZmlsZQ%3D%3D?line=2'>3</a>\u001b[0m   n_neighbors\u001b[39m=\u001b[39m\u001b[39m50\u001b[39m,\n\u001b[1;32m      <a href='vscode-notebook-cell:/home/marialejandramantillab/dmeyf2023/src/FeatureEngineering/timeseries_analysis.ipynb#X15sZmlsZQ%3D%3D?line=3'>4</a>\u001b[0m   metric\u001b[39m=\u001b[39m\u001b[39m\"\u001b[39m\u001b[39mprecomputed\u001b[39m\u001b[39m\"\u001b[39m,\n\u001b[0;32m----> <a href='vscode-notebook-cell:/home/marialejandramantillab/dmeyf2023/src/FeatureEngineering/timeseries_analysis.ipynb#X15sZmlsZQ%3D%3D?line=4'>5</a>\u001b[0m )\u001b[39m.\u001b[39mfit_transform(d[(YRF\u001b[39m==\u001b[39;49m\u001b[39m\"\u001b[39;49m\u001b[39mBAJA+2\u001b[39;49m\u001b[39m\"\u001b[39;49m)\u001b[39m.\u001b[39;49mindex,][:,YRF\u001b[39m==\u001b[39m\u001b[39m\"\u001b[39m\u001b[39mBAJA+2\u001b[39m\u001b[39m\"\u001b[39m])\n\u001b[1;32m      <a href='vscode-notebook-cell:/home/marialejandramantillab/dmeyf2023/src/FeatureEngineering/timeseries_analysis.ipynb#X15sZmlsZQ%3D%3D?line=6'>7</a>\u001b[0m plt\u001b[39m.\u001b[39mscatter(embedding_rf[:,\u001b[39m0\u001b[39m], embedding_rf[:,\u001b[39m1\u001b[39m])\n",
      "\u001b[0;31mAttributeError\u001b[0m: 'Series' object has no attribute 'index'"
     ]
    }
   ],
   "source": [
    "embedding_rf = UMAP(\n",
    "  n_components=2,\n",
    "  n_neighbors=50,\n",
    "  metric=\"precomputed\",\n",
    ").fit_transform(d[(YRF==\"BAJA+2\").index,][:,YRF==\"BAJA+2\"])\n",
    "\n",
    "plt.scatter(embedding_rf[:,0], embedding_rf[:,1])"
   ]
  },
  {
   "cell_type": "code",
   "execution_count": 22,
   "metadata": {},
   "outputs": [
    {
     "data": {
      "text/plain": [
       "array([0., 0., 0., 0., 0., 0., 0., 0., 0., 0., 0., 0., 0., 0., 0., 0., 0.,\n",
       "       0., 0., 0., 0., 0., 0., 0., 0., 0., 0., 0., 0., 0., 0., 0., 0., 0.,\n",
       "       0., 0., 0., 0., 0., 0., 0., 0., 0., 0., 0., 0., 0., 0., 0., 0., 0.,\n",
       "       0., 0., 0., 0., 0., 0., 0., 0., 0., 0., 0., 0., 0., 0., 0., 0., 0.,\n",
       "       0., 0., 0., 0., 0., 0., 0., 0., 0., 0., 0., 0., 0., 0., 0., 0., 0.,\n",
       "       0., 0., 0., 0., 0.])"
      ]
     },
     "execution_count": 22,
     "metadata": {},
     "output_type": "execute_result"
    }
   ],
   "source": []
  },
  {
   "cell_type": "code",
   "execution_count": null,
   "metadata": {},
   "outputs": [],
   "source": []
  }
 ],
 "metadata": {
  "kernelspec": {
   "display_name": "dmef",
   "language": "python",
   "name": "python3"
  },
  "language_info": {
   "codemirror_mode": {
    "name": "ipython",
    "version": 3
   },
   "file_extension": ".py",
   "mimetype": "text/x-python",
   "name": "python",
   "nbconvert_exporter": "python",
   "pygments_lexer": "ipython3",
   "version": "3.11.5"
  },
  "orig_nbformat": 4
 },
 "nbformat": 4,
 "nbformat_minor": 2
}
