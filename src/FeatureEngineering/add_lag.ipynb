{
 "cells": [
  {
   "cell_type": "code",
   "execution_count": 1,
   "metadata": {},
   "outputs": [],
   "source": [
    "import polars as pl\n",
    "import polars.selectors as cs\n",
    "import gzip"
   ]
  },
  {
   "cell_type": "code",
   "execution_count": 2,
   "metadata": {},
   "outputs": [],
   "source": [
    "df = pl.read_csv('~/buckets/b1/datasets/competencia_02.csv.gz', infer_schema_length=100000, dtypes={'foto_mes':str})"
   ]
  },
  {
   "cell_type": "code",
   "execution_count": 3,
   "metadata": {},
   "outputs": [],
   "source": [
    "columns = df.columns \n",
    "columns.remove('foto_mes')\n",
    "columns.remove('numero_de_cliente')\n",
    "columns.remove('clase_ternaria')"
   ]
  },
  {
   "cell_type": "code",
   "execution_count": 8,
   "metadata": {},
   "outputs": [],
   "source": [
    "df = df.sort('foto_mes')"
   ]
  },
  {
   "cell_type": "code",
   "execution_count": 9,
   "metadata": {},
   "outputs": [],
   "source": [
    "max_lag = 6\n",
    "numeric_columns = list(df.select(cs.numeric()).columns)\n",
    "numeric_columns.remove('numero_de_cliente')\n",
    "\n",
    "expressions = list([\n",
    "    pl.col(column).shift(lag).over('numero_de_cliente').alias(column + '_lag_' + str(lag)) \n",
    "        for column in columns for lag in range(1, max_lag + 1)])\n",
    "\n",
    "df = df.with_columns(expressions)"
   ]
  },
  {
   "cell_type": "code",
   "execution_count": null,
   "metadata": {},
   "outputs": [],
   "source": [
    "expressions=list((pl.col(column) - pl.col(column + '_lag_1')).alias(column + \"_diff_1\") for column in numeric_columns)\n",
    "\n",
    "expressions.extend([\n",
    "    (\n",
    "        pl.col(column + '_lag_' + str(lag)) - pl.col(column + '_lag_' + str(lag+1))        \n",
    "    ).alias(column + '_diff_' + str(lag+1)) for column in numeric_columns for lag in range(1, max_lag)])\n",
    "\n",
    "df = df.with_columns(expressions)"
   ]
  },
  {
   "cell_type": "code",
   "execution_count": 11,
   "metadata": {},
   "outputs": [],
   "source": [
    "# Save the result as gzip\n",
    "with gzip.open('~/buckets/b1/datasets/competencia_02_6lags.csv.gz', 'wb') as f:\n",
    "    df.write_csv(f)\n"
   ]
  },
  {
   "cell_type": "code",
   "execution_count": null,
   "metadata": {
    "vscode": {
     "languageId": "sql"
    }
   },
   "outputs": [],
   "source": []
  }
 ],
 "metadata": {
  "kernelspec": {
   "display_name": "dmef",
   "language": "python",
   "name": "python3"
  },
  "language_info": {
   "codemirror_mode": {
    "name": "ipython",
    "version": 3
   },
   "file_extension": ".py",
   "mimetype": "text/x-python",
   "name": "python",
   "nbconvert_exporter": "python",
   "pygments_lexer": "ipython3",
   "version": "3.11.5"
  },
  "orig_nbformat": 4
 },
 "nbformat": 4,
 "nbformat_minor": 2
}
