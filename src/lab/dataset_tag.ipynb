{
 "cells": [
  {
   "cell_type": "code",
   "execution_count": 1,
   "metadata": {},
   "outputs": [
    {
     "name": "stdout",
     "output_type": "stream",
     "text": [
      "Requirement already satisfied: duckdb in /home/marialejandramantillab/anaconda3/envs/dmef/lib/python3.11/site-packages (0.9.0)\n",
      "Requirement already satisfied: jupysql in /home/marialejandramantillab/anaconda3/envs/dmef/lib/python3.11/site-packages (0.10.2)\n",
      "Requirement already satisfied: prettytable in /home/marialejandramantillab/anaconda3/envs/dmef/lib/python3.11/site-packages (from jupysql) (3.9.0)\n",
      "Requirement already satisfied: ipython in /home/marialejandramantillab/anaconda3/envs/dmef/lib/python3.11/site-packages (from jupysql) (8.15.0)\n",
      "Requirement already satisfied: sqlalchemy in /home/marialejandramantillab/anaconda3/envs/dmef/lib/python3.11/site-packages (from jupysql) (2.0.21)\n",
      "Requirement already satisfied: sqlparse in /home/marialejandramantillab/anaconda3/envs/dmef/lib/python3.11/site-packages (from jupysql) (0.4.4)\n",
      "Requirement already satisfied: ipython-genutils>=0.1.0 in /home/marialejandramantillab/anaconda3/envs/dmef/lib/python3.11/site-packages (from jupysql) (0.2.0)\n",
      "Requirement already satisfied: jinja2 in /home/marialejandramantillab/anaconda3/envs/dmef/lib/python3.11/site-packages (from jupysql) (3.1.2)\n",
      "Requirement already satisfied: sqlglot>=11.3.7 in /home/marialejandramantillab/anaconda3/envs/dmef/lib/python3.11/site-packages (from jupysql) (18.6.0)\n",
      "Requirement already satisfied: ploomber-core>=0.2.7 in /home/marialejandramantillab/anaconda3/envs/dmef/lib/python3.11/site-packages (from jupysql) (0.2.14)\n",
      "Requirement already satisfied: jupysql-plugin in /home/marialejandramantillab/anaconda3/envs/dmef/lib/python3.11/site-packages (from jupysql) (0.2.5)\n",
      "Requirement already satisfied: click in /home/marialejandramantillab/anaconda3/envs/dmef/lib/python3.11/site-packages (from ploomber-core>=0.2.7->jupysql) (8.1.7)\n",
      "Requirement already satisfied: pyyaml in /home/marialejandramantillab/anaconda3/envs/dmef/lib/python3.11/site-packages (from ploomber-core>=0.2.7->jupysql) (6.0.1)\n",
      "Requirement already satisfied: posthog in /home/marialejandramantillab/anaconda3/envs/dmef/lib/python3.11/site-packages (from ploomber-core>=0.2.7->jupysql) (3.0.2)\n",
      "Requirement already satisfied: backcall in /home/marialejandramantillab/anaconda3/envs/dmef/lib/python3.11/site-packages (from ipython->jupysql) (0.2.0)\n",
      "Requirement already satisfied: decorator in /home/marialejandramantillab/anaconda3/envs/dmef/lib/python3.11/site-packages (from ipython->jupysql) (5.1.1)\n",
      "Requirement already satisfied: jedi>=0.16 in /home/marialejandramantillab/anaconda3/envs/dmef/lib/python3.11/site-packages (from ipython->jupysql) (0.19.0)\n",
      "Requirement already satisfied: matplotlib-inline in /home/marialejandramantillab/anaconda3/envs/dmef/lib/python3.11/site-packages (from ipython->jupysql) (0.1.6)\n",
      "Requirement already satisfied: pickleshare in /home/marialejandramantillab/anaconda3/envs/dmef/lib/python3.11/site-packages (from ipython->jupysql) (0.7.5)\n",
      "Requirement already satisfied: prompt-toolkit!=3.0.37,<3.1.0,>=3.0.30 in /home/marialejandramantillab/anaconda3/envs/dmef/lib/python3.11/site-packages (from ipython->jupysql) (3.0.39)\n",
      "Requirement already satisfied: pygments>=2.4.0 in /home/marialejandramantillab/anaconda3/envs/dmef/lib/python3.11/site-packages (from ipython->jupysql) (2.16.1)\n",
      "Requirement already satisfied: stack-data in /home/marialejandramantillab/anaconda3/envs/dmef/lib/python3.11/site-packages (from ipython->jupysql) (0.6.2)\n",
      "Requirement already satisfied: traitlets>=5 in /home/marialejandramantillab/anaconda3/envs/dmef/lib/python3.11/site-packages (from ipython->jupysql) (5.10.0)\n",
      "Requirement already satisfied: pexpect>4.3 in /home/marialejandramantillab/anaconda3/envs/dmef/lib/python3.11/site-packages (from ipython->jupysql) (4.8.0)\n",
      "Requirement already satisfied: MarkupSafe>=2.0 in /home/marialejandramantillab/anaconda3/envs/dmef/lib/python3.11/site-packages (from jinja2->jupysql) (2.1.3)\n",
      "Requirement already satisfied: wcwidth in /home/marialejandramantillab/anaconda3/envs/dmef/lib/python3.11/site-packages (from prettytable->jupysql) (0.2.6)\n",
      "Requirement already satisfied: typing-extensions>=4.2.0 in /home/marialejandramantillab/anaconda3/envs/dmef/lib/python3.11/site-packages (from sqlalchemy->jupysql) (4.8.0)\n",
      "Requirement already satisfied: greenlet!=0.4.17 in /home/marialejandramantillab/anaconda3/envs/dmef/lib/python3.11/site-packages (from sqlalchemy->jupysql) (2.0.2)\n",
      "Requirement already satisfied: parso<0.9.0,>=0.8.3 in /home/marialejandramantillab/anaconda3/envs/dmef/lib/python3.11/site-packages (from jedi>=0.16->ipython->jupysql) (0.8.3)\n",
      "Requirement already satisfied: ptyprocess>=0.5 in /home/marialejandramantillab/anaconda3/envs/dmef/lib/python3.11/site-packages (from pexpect>4.3->ipython->jupysql) (0.7.0)\n",
      "Requirement already satisfied: requests<3.0,>=2.7 in /home/marialejandramantillab/anaconda3/envs/dmef/lib/python3.11/site-packages (from posthog->ploomber-core>=0.2.7->jupysql) (2.31.0)\n",
      "Requirement already satisfied: six>=1.5 in /home/marialejandramantillab/anaconda3/envs/dmef/lib/python3.11/site-packages (from posthog->ploomber-core>=0.2.7->jupysql) (1.16.0)\n",
      "Requirement already satisfied: monotonic>=1.5 in /home/marialejandramantillab/anaconda3/envs/dmef/lib/python3.11/site-packages (from posthog->ploomber-core>=0.2.7->jupysql) (1.6)\n",
      "Requirement already satisfied: backoff>=1.10.0 in /home/marialejandramantillab/anaconda3/envs/dmef/lib/python3.11/site-packages (from posthog->ploomber-core>=0.2.7->jupysql) (2.2.1)\n",
      "Requirement already satisfied: python-dateutil>2.1 in /home/marialejandramantillab/anaconda3/envs/dmef/lib/python3.11/site-packages (from posthog->ploomber-core>=0.2.7->jupysql) (2.8.2)\n",
      "Requirement already satisfied: executing>=1.2.0 in /home/marialejandramantillab/anaconda3/envs/dmef/lib/python3.11/site-packages (from stack-data->ipython->jupysql) (1.2.0)\n",
      "Requirement already satisfied: asttokens>=2.1.0 in /home/marialejandramantillab/anaconda3/envs/dmef/lib/python3.11/site-packages (from stack-data->ipython->jupysql) (2.4.0)\n",
      "Requirement already satisfied: pure-eval in /home/marialejandramantillab/anaconda3/envs/dmef/lib/python3.11/site-packages (from stack-data->ipython->jupysql) (0.2.2)\n",
      "Requirement already satisfied: charset-normalizer<4,>=2 in /home/marialejandramantillab/anaconda3/envs/dmef/lib/python3.11/site-packages (from requests<3.0,>=2.7->posthog->ploomber-core>=0.2.7->jupysql) (3.2.0)\n",
      "Requirement already satisfied: idna<4,>=2.5 in /home/marialejandramantillab/anaconda3/envs/dmef/lib/python3.11/site-packages (from requests<3.0,>=2.7->posthog->ploomber-core>=0.2.7->jupysql) (3.4)\n",
      "Requirement already satisfied: urllib3<3,>=1.21.1 in /home/marialejandramantillab/anaconda3/envs/dmef/lib/python3.11/site-packages (from requests<3.0,>=2.7->posthog->ploomber-core>=0.2.7->jupysql) (2.0.5)\n",
      "Requirement already satisfied: certifi>=2017.4.17 in /home/marialejandramantillab/anaconda3/envs/dmef/lib/python3.11/site-packages (from requests<3.0,>=2.7->posthog->ploomber-core>=0.2.7->jupysql) (2023.7.22)\n",
      "Requirement already satisfied: duckdb-engine in /home/marialejandramantillab/anaconda3/envs/dmef/lib/python3.11/site-packages (0.9.2)\n",
      "Requirement already satisfied: duckdb>=0.4.0 in /home/marialejandramantillab/anaconda3/envs/dmef/lib/python3.11/site-packages (from duckdb-engine) (0.9.0)\n",
      "Requirement already satisfied: sqlalchemy>=1.3.22 in /home/marialejandramantillab/anaconda3/envs/dmef/lib/python3.11/site-packages (from duckdb-engine) (2.0.21)\n",
      "Requirement already satisfied: typing-extensions>=4.2.0 in /home/marialejandramantillab/anaconda3/envs/dmef/lib/python3.11/site-packages (from sqlalchemy>=1.3.22->duckdb-engine) (4.8.0)\n",
      "Requirement already satisfied: greenlet!=0.4.17 in /home/marialejandramantillab/anaconda3/envs/dmef/lib/python3.11/site-packages (from sqlalchemy>=1.3.22->duckdb-engine) (2.0.2)\n"
     ]
    }
   ],
   "source": [
    "%%bash\n",
    "pip install --upgrade duckdb\n",
    "pip install --upgrade jupysql\n",
    "pip install --upgrade duckdb-engine"
   ]
  },
  {
   "cell_type": "code",
   "execution_count": 2,
   "metadata": {},
   "outputs": [],
   "source": [
    "import duckdb\n",
    "import pandas as pd\n",
    "\n",
    "%load_ext sql\n",
    "%config SqlMagic.autopandas = True\n",
    "%config SqlMagic.feedback = False\n",
    "%config SqlMagic.displaycon = False\n",
    "\n",
    "%sql duckdb:////home/marialejandramantillab/dmeyf.db"
   ]
  },
  {
   "cell_type": "code",
   "execution_count": 3,
   "metadata": {
    "vscode": {
     "languageId": "sql"
    }
   },
   "outputs": [
    {
     "data": {
      "text/html": [
       "<div>\n",
       "<style scoped>\n",
       "    .dataframe tbody tr th:only-of-type {\n",
       "        vertical-align: middle;\n",
       "    }\n",
       "\n",
       "    .dataframe tbody tr th {\n",
       "        vertical-align: top;\n",
       "    }\n",
       "\n",
       "    .dataframe thead th {\n",
       "        text-align: right;\n",
       "    }\n",
       "</style>\n",
       "<table border=\"1\" class=\"dataframe\">\n",
       "  <thead>\n",
       "    <tr style=\"text-align: right;\">\n",
       "      <th></th>\n",
       "      <th>Success</th>\n",
       "    </tr>\n",
       "  </thead>\n",
       "  <tbody>\n",
       "  </tbody>\n",
       "</table>\n",
       "</div>"
      ],
      "text/plain": [
       "Empty DataFrame\n",
       "Columns: [Success]\n",
       "Index: []"
      ]
     },
     "execution_count": 3,
     "metadata": {},
     "output_type": "execute_result"
    }
   ],
   "source": [
    "%%sql\n",
    "create or replace table competencia_02 as\n",
    "select\n",
    "    *\n",
    "from read_csv_auto('~/buckets/b1/datasets/competencia_02_crudo.csv.gz')"
   ]
  },
  {
   "cell_type": "code",
   "execution_count": 5,
   "metadata": {
    "vscode": {
     "languageId": "sql"
    }
   },
   "outputs": [
    {
     "data": {
      "text/html": [
       "<div>\n",
       "<style scoped>\n",
       "    .dataframe tbody tr th:only-of-type {\n",
       "        vertical-align: middle;\n",
       "    }\n",
       "\n",
       "    .dataframe tbody tr th {\n",
       "        vertical-align: top;\n",
       "    }\n",
       "\n",
       "    .dataframe thead th {\n",
       "        text-align: right;\n",
       "    }\n",
       "</style>\n",
       "<table border=\"1\" class=\"dataframe\">\n",
       "  <thead>\n",
       "    <tr style=\"text-align: right;\">\n",
       "      <th></th>\n",
       "      <th>Success</th>\n",
       "    </tr>\n",
       "  </thead>\n",
       "  <tbody>\n",
       "  </tbody>\n",
       "</table>\n",
       "</div>"
      ],
      "text/plain": [
       "Empty DataFrame\n",
       "Columns: [Success]\n",
       "Index: []"
      ]
     },
     "execution_count": 5,
     "metadata": {},
     "output_type": "execute_result"
    }
   ],
   "source": [
    "%%sql\n",
    "create or replace table targets as\n",
    "with periodos as (\n",
    "    select distinct foto_mes from competencia_02\n",
    "), clientes as (\n",
    "    select distinct numero_de_cliente from competencia_02\n",
    "), todo as (\n",
    "    select numero_de_cliente, foto_mes from clientes cross join periodos\n",
    "), clase_ternaria as (\n",
    "    select\n",
    "        t.numero_de_cliente\n",
    "        , t.foto_mes\n",
    "        , if(c.numero_de_cliente is null, 0, 1) as mes_0\n",
    "        , lead(mes_0, 1) over (partition by t.numero_de_cliente order by foto_mes) as mes_1\n",
    "        , lead(mes_0, 2) over (partition by t.numero_de_cliente order by foto_mes) as mes_2\n",
    "        , case \n",
    "            when mes_0 = 1 and mes_1 = 1 and mes_2 = 1 then 'CONTINUA'\n",
    "            when mes_0 = 1 and mes_1 = 1 and (mes_2 is null or mes_2 = 0) then 'BAJA+2'\n",
    "            when mes_0 = 1 and (mes_1 is null or mes_1 = 0) and (mes_2 is null or mes_2 = 0) then 'BAJA+1'\n",
    "            else 'OTHER'\n",
    "        end\n",
    "        as clase_ternaria\n",
    "    from todo t    \n",
    "    left join competencia_02 c using (numero_de_cliente, foto_mes)\n",
    ") select\n",
    "  foto_mes\n",
    "  , numero_de_cliente  \n",
    "  , clase_ternaria\n",
    "from clase_ternaria where mes_0 = 1"
   ]
  },
  {
   "cell_type": "code",
   "execution_count": 10,
   "metadata": {
    "vscode": {
     "languageId": "sql"
    }
   },
   "outputs": [
    {
     "data": {
      "text/html": [
       "<div>\n",
       "<style scoped>\n",
       "    .dataframe tbody tr th:only-of-type {\n",
       "        vertical-align: middle;\n",
       "    }\n",
       "\n",
       "    .dataframe tbody tr th {\n",
       "        vertical-align: top;\n",
       "    }\n",
       "\n",
       "    .dataframe thead th {\n",
       "        text-align: right;\n",
       "    }\n",
       "</style>\n",
       "<table border=\"1\" class=\"dataframe\">\n",
       "  <thead>\n",
       "    <tr style=\"text-align: right;\">\n",
       "      <th></th>\n",
       "      <th>numero_de_cliente</th>\n",
       "      <th>foto_mes</th>\n",
       "      <th>clase_ternaria</th>\n",
       "    </tr>\n",
       "  </thead>\n",
       "  <tbody>\n",
       "    <tr>\n",
       "      <th>0</th>\n",
       "      <td>114811302</td>\n",
       "      <td>201901</td>\n",
       "      <td>BAJA+2</td>\n",
       "    </tr>\n",
       "    <tr>\n",
       "      <th>1</th>\n",
       "      <td>114811302</td>\n",
       "      <td>201904</td>\n",
       "      <td>CONTINUA</td>\n",
       "    </tr>\n",
       "    <tr>\n",
       "      <th>2</th>\n",
       "      <td>114811302</td>\n",
       "      <td>201905</td>\n",
       "      <td>CONTINUA</td>\n",
       "    </tr>\n",
       "    <tr>\n",
       "      <th>3</th>\n",
       "      <td>114811302</td>\n",
       "      <td>201906</td>\n",
       "      <td>CONTINUA</td>\n",
       "    </tr>\n",
       "    <tr>\n",
       "      <th>4</th>\n",
       "      <td>114811302</td>\n",
       "      <td>201907</td>\n",
       "      <td>CONTINUA</td>\n",
       "    </tr>\n",
       "    <tr>\n",
       "      <th>5</th>\n",
       "      <td>114811302</td>\n",
       "      <td>201908</td>\n",
       "      <td>CONTINUA</td>\n",
       "    </tr>\n",
       "    <tr>\n",
       "      <th>6</th>\n",
       "      <td>114811302</td>\n",
       "      <td>201909</td>\n",
       "      <td>CONTINUA</td>\n",
       "    </tr>\n",
       "    <tr>\n",
       "      <th>7</th>\n",
       "      <td>114811302</td>\n",
       "      <td>201910</td>\n",
       "      <td>CONTINUA</td>\n",
       "    </tr>\n",
       "    <tr>\n",
       "      <th>8</th>\n",
       "      <td>114811302</td>\n",
       "      <td>201911</td>\n",
       "      <td>CONTINUA</td>\n",
       "    </tr>\n",
       "    <tr>\n",
       "      <th>9</th>\n",
       "      <td>114811302</td>\n",
       "      <td>201912</td>\n",
       "      <td>CONTINUA</td>\n",
       "    </tr>\n",
       "  </tbody>\n",
       "</table>\n",
       "</div>"
      ],
      "text/plain": [
       "   numero_de_cliente  foto_mes clase_ternaria\n",
       "0          114811302    201901         BAJA+2\n",
       "1          114811302    201904       CONTINUA\n",
       "2          114811302    201905       CONTINUA\n",
       "3          114811302    201906       CONTINUA\n",
       "4          114811302    201907       CONTINUA\n",
       "5          114811302    201908       CONTINUA\n",
       "6          114811302    201909       CONTINUA\n",
       "7          114811302    201910       CONTINUA\n",
       "8          114811302    201911       CONTINUA\n",
       "9          114811302    201912       CONTINUA"
      ]
     },
     "execution_count": 10,
     "metadata": {},
     "output_type": "execute_result"
    }
   ],
   "source": [
    "%%sql\n",
    "select numero_de_cliente, foto_mes, clase_ternaria from competencia_02 where numero_de_cliente=114811302 limit 10;"
   ]
  },
  {
   "cell_type": "code",
   "execution_count": 7,
   "metadata": {
    "vscode": {
     "languageId": "sql"
    }
   },
   "outputs": [
    {
     "data": {
      "text/html": [
       "<div>\n",
       "<style scoped>\n",
       "    .dataframe tbody tr th:only-of-type {\n",
       "        vertical-align: middle;\n",
       "    }\n",
       "\n",
       "    .dataframe tbody tr th {\n",
       "        vertical-align: top;\n",
       "    }\n",
       "\n",
       "    .dataframe thead th {\n",
       "        text-align: right;\n",
       "    }\n",
       "</style>\n",
       "<table border=\"1\" class=\"dataframe\">\n",
       "  <thead>\n",
       "    <tr style=\"text-align: right;\">\n",
       "      <th></th>\n",
       "      <th>Success</th>\n",
       "    </tr>\n",
       "  </thead>\n",
       "  <tbody>\n",
       "  </tbody>\n",
       "</table>\n",
       "</div>"
      ],
      "text/plain": [
       "Empty DataFrame\n",
       "Columns: [Success]\n",
       "Index: []"
      ]
     },
     "execution_count": 7,
     "metadata": {},
     "output_type": "execute_result"
    }
   ],
   "source": [
    "%%sql\n",
    "alter table competencia_02 add column clase_ternaria VARCHAR(10)"
   ]
  },
  {
   "cell_type": "code",
   "execution_count": 8,
   "metadata": {
    "vscode": {
     "languageId": "sql"
    }
   },
   "outputs": [
    {
     "data": {
      "text/html": [
       "<div>\n",
       "<style scoped>\n",
       "    .dataframe tbody tr th:only-of-type {\n",
       "        vertical-align: middle;\n",
       "    }\n",
       "\n",
       "    .dataframe tbody tr th {\n",
       "        vertical-align: top;\n",
       "    }\n",
       "\n",
       "    .dataframe thead th {\n",
       "        text-align: right;\n",
       "    }\n",
       "</style>\n",
       "<table border=\"1\" class=\"dataframe\">\n",
       "  <thead>\n",
       "    <tr style=\"text-align: right;\">\n",
       "      <th></th>\n",
       "      <th>Success</th>\n",
       "    </tr>\n",
       "  </thead>\n",
       "  <tbody>\n",
       "  </tbody>\n",
       "</table>\n",
       "</div>"
      ],
      "text/plain": [
       "Empty DataFrame\n",
       "Columns: [Success]\n",
       "Index: []"
      ]
     },
     "execution_count": 8,
     "metadata": {},
     "output_type": "execute_result"
    }
   ],
   "source": [
    "%%sql\n",
    "update competencia_02\n",
    "set clase_ternaria = targets.clase_ternaria\n",
    "from targets\n",
    "where competencia_02.numero_de_cliente = targets.numero_de_cliente and competencia_02.foto_mes = targets.foto_mes;"
   ]
  },
  {
   "cell_type": "code",
   "execution_count": 9,
   "metadata": {
    "vscode": {
     "languageId": "sql"
    }
   },
   "outputs": [
    {
     "data": {
      "text/html": [
       "<div>\n",
       "<style scoped>\n",
       "    .dataframe tbody tr th:only-of-type {\n",
       "        vertical-align: middle;\n",
       "    }\n",
       "\n",
       "    .dataframe tbody tr th {\n",
       "        vertical-align: top;\n",
       "    }\n",
       "\n",
       "    .dataframe thead th {\n",
       "        text-align: right;\n",
       "    }\n",
       "</style>\n",
       "<table border=\"1\" class=\"dataframe\">\n",
       "  <thead>\n",
       "    <tr style=\"text-align: right;\">\n",
       "      <th></th>\n",
       "      <th>Success</th>\n",
       "    </tr>\n",
       "  </thead>\n",
       "  <tbody>\n",
       "  </tbody>\n",
       "</table>\n",
       "</div>"
      ],
      "text/plain": [
       "Empty DataFrame\n",
       "Columns: [Success]\n",
       "Index: []"
      ]
     },
     "execution_count": 9,
     "metadata": {},
     "output_type": "execute_result"
    }
   ],
   "source": [
    "%%sql\n",
    "delete from competencia_02\n",
    "where  foto_mes != '202107' and not clase_ternaria in ('CONTINUA', 'BAJA+1', 'BAJA+2');"
   ]
  },
  {
   "cell_type": "code",
   "execution_count": 11,
   "metadata": {
    "vscode": {
     "languageId": "sql"
    }
   },
   "outputs": [
    {
     "data": {
      "text/html": [
       "<div>\n",
       "<style scoped>\n",
       "    .dataframe tbody tr th:only-of-type {\n",
       "        vertical-align: middle;\n",
       "    }\n",
       "\n",
       "    .dataframe tbody tr th {\n",
       "        vertical-align: top;\n",
       "    }\n",
       "\n",
       "    .dataframe thead th {\n",
       "        text-align: right;\n",
       "    }\n",
       "</style>\n",
       "<table border=\"1\" class=\"dataframe\">\n",
       "  <thead>\n",
       "    <tr style=\"text-align: right;\">\n",
       "      <th></th>\n",
       "      <th>Success</th>\n",
       "    </tr>\n",
       "  </thead>\n",
       "  <tbody>\n",
       "  </tbody>\n",
       "</table>\n",
       "</div>"
      ],
      "text/plain": [
       "Empty DataFrame\n",
       "Columns: [Success]\n",
       "Index: []"
      ]
     },
     "execution_count": 11,
     "metadata": {},
     "output_type": "execute_result"
    }
   ],
   "source": [
    "%%sql\n",
    "copy competencia_02 to '~/buckets/b1/datasets/competencia_02.csv.gz' (FORMAT CSV, HEADER)"
   ]
  },
  {
   "cell_type": "code",
   "execution_count": null,
   "metadata": {
    "vscode": {
     "languageId": "sql"
    }
   },
   "outputs": [],
   "source": []
  }
 ],
 "metadata": {
  "kernelspec": {
   "display_name": ".venv",
   "language": "python",
   "name": "python3"
  },
  "language_info": {
   "codemirror_mode": {
    "name": "ipython",
    "version": 3
   },
   "file_extension": ".py",
   "mimetype": "text/x-python",
   "name": "python",
   "nbconvert_exporter": "python",
   "pygments_lexer": "ipython3",
   "version": "3.11.5"
  },
  "orig_nbformat": 4
 },
 "nbformat": 4,
 "nbformat_minor": 2
}
