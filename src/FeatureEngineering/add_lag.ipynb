{
 "cells": [
  {
   "cell_type": "code",
   "execution_count": 1,
   "metadata": {},
   "outputs": [],
   "source": [
    "import polars as pl\n",
    "import gzip"
   ]
  },
  {
   "cell_type": "code",
   "execution_count": 2,
   "metadata": {},
   "outputs": [],
   "source": [
    "df = pl.read_csv('~/buckets/b1/datasets/competencia_02.csv.gz', infer_schema_length=100000, dtypes={'foto_mes':str})"
   ]
  },
  {
   "cell_type": "code",
   "execution_count": 3,
   "metadata": {},
   "outputs": [],
   "source": [
    "query = \"\"\"\n",
    "    select foto_mes, numero_de_cliente, mcomisiones, lag(mcomisiones,1) over (partition by numero_de_cliente order by foto_mes) as mcomisiones_1 \n",
    "    from frame where numero_de_cliente=29183981;    \n",
    "\"\"\"\n",
    "\n",
    "#df_client = df.filter(pl.col('numero_de_cliente')==29183981).sort('foto_mes')\n",
    "#df_client.select([pl.col('foto_mes'), pl.col('numero_de_cliente'), pl.col('mcomisiones'), pl.col('mcomisiones_lag_1'), pl.col('mcomisiones_lag_2'), pl.col('mcomisiones_lag_3')])\n",
    "columns = df.columns \n",
    "columns.remove('foto_mes')\n",
    "columns.remove('numero_de_cliente')\n",
    "columns.remove('clase_ternaria')"
   ]
  },
  {
   "cell_type": "code",
   "execution_count": 8,
   "metadata": {},
   "outputs": [],
   "source": [
    "df = df.sort('foto_mes')"
   ]
  },
  {
   "cell_type": "code",
   "execution_count": 9,
   "metadata": {},
   "outputs": [],
   "source": [
    "max_lag = 3\n",
    "for column in columns:\n",
    "    for lag in range(1, max_lag+1):    \n",
    "        column_lag = column + '_lag_' + str(lag)\n",
    "        df = df.with_columns([pl.col(column).shift(lag).over('numero_de_cliente').alias(column_lag)])"
   ]
  },
  {
   "cell_type": "code",
   "execution_count": 11,
   "metadata": {},
   "outputs": [],
   "source": [
    "# Save the result as gzip\n",
    "with gzip.open('~/buckets/b1/datasets/competencia_02_3lags.csv.gz', 'wb') as f:\n",
    "    df.write_csv(f)\n"
   ]
  },
  {
   "cell_type": "code",
   "execution_count": null,
   "metadata": {
    "vscode": {
     "languageId": "sql"
    }
   },
   "outputs": [],
   "source": []
  }
 ],
 "metadata": {
  "kernelspec": {
   "display_name": "dmef",
   "language": "python",
   "name": "python3"
  },
  "language_info": {
   "codemirror_mode": {
    "name": "ipython",
    "version": 3
   },
   "file_extension": ".py",
   "mimetype": "text/x-python",
   "name": "python",
   "nbconvert_exporter": "python",
   "pygments_lexer": "ipython3",
   "version": "3.11.5"
  },
  "orig_nbformat": 4
 },
 "nbformat": 4,
 "nbformat_minor": 2
}
